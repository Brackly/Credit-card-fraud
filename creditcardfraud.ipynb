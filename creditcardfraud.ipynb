{
 "cells": [
  {
   "cell_type": "markdown",
   "id": "c3d0dcea",
   "metadata": {
    "papermill": {
     "duration": 0.003918,
     "end_time": "2022-11-23T11:16:21.369072",
     "exception": false,
     "start_time": "2022-11-23T11:16:21.365154",
     "status": "completed"
    },
    "tags": []
   },
   "source": [
    "# Simple KNN ML Model"
   ]
  },
  {
   "cell_type": "code",
   "execution_count": 1,
   "id": "ffb637ed",
   "metadata": {
    "execution": {
     "iopub.execute_input": "2022-11-23T11:16:21.377310Z",
     "iopub.status.busy": "2022-11-23T11:16:21.376778Z",
     "iopub.status.idle": "2022-11-23T11:16:22.595865Z",
     "shell.execute_reply": "2022-11-23T11:16:22.594801Z"
    },
    "papermill": {
     "duration": 1.227047,
     "end_time": "2022-11-23T11:16:22.599282",
     "exception": false,
     "start_time": "2022-11-23T11:16:21.372235",
     "status": "completed"
    },
    "tags": []
   },
   "outputs": [],
   "source": [
    "import pandas as pd\n",
    "import numpy as np\n",
    "from sklearn.model_selection import train_test_split\n",
    "from sklearn import neighbors, metrics\n"
   ]
  },
  {
   "cell_type": "markdown",
   "id": "347e73a4",
   "metadata": {
    "papermill": {
     "duration": 0.002648,
     "end_time": "2022-11-23T11:16:22.605037",
     "exception": false,
     "start_time": "2022-11-23T11:16:22.602389",
     "status": "completed"
    },
    "tags": []
   },
   "source": [
    "# Data Transforming"
   ]
  },
  {
   "cell_type": "code",
   "execution_count": 2,
   "id": "306ef018",
   "metadata": {
    "azdata_cell_guid": "2deb88c6-8ceb-4913-8e10-5b040e69c1d3",
    "execution": {
     "iopub.execute_input": "2022-11-23T11:16:22.612984Z",
     "iopub.status.busy": "2022-11-23T11:16:22.611985Z",
     "iopub.status.idle": "2022-11-23T11:16:24.573349Z",
     "shell.execute_reply": "2022-11-23T11:16:24.572152Z"
    },
    "language": "python",
    "papermill": {
     "duration": 1.968244,
     "end_time": "2022-11-23T11:16:24.576027",
     "exception": false,
     "start_time": "2022-11-23T11:16:22.607783",
     "status": "completed"
    },
    "tags": []
   },
   "outputs": [],
   "source": [
    "data=pd.read_csv('/kaggle/input/credit-card-fraud/card_transdata.csv')\n",
    "\n",
    "X=data[['distance_from_home','distance_from_last_transaction',\n",
    "        'ratio_to_median_purchase_price','repeat_retailer','used_chip','used_pin_number',\n",
    "        'online_order']].values\n",
    "\n",
    "y=data[['fraud']]\n",
    "\n",
    "\n",
    "y=np.array(y['fraud'])"
   ]
  },
  {
   "cell_type": "markdown",
   "id": "50d3560a",
   "metadata": {
    "papermill": {
     "duration": 0.003053,
     "end_time": "2022-11-23T11:16:24.582930",
     "exception": false,
     "start_time": "2022-11-23T11:16:24.579877",
     "status": "completed"
    },
    "tags": []
   },
   "source": [
    "# Training and prediction"
   ]
  },
  {
   "cell_type": "code",
   "execution_count": 3,
   "id": "2cb4933f",
   "metadata": {
    "azdata_cell_guid": "1e04dd66-5e0a-40d7-b297-62e25cd9f35a",
    "execution": {
     "iopub.execute_input": "2022-11-23T11:16:24.591055Z",
     "iopub.status.busy": "2022-11-23T11:16:24.590643Z",
     "iopub.status.idle": "2022-11-23T11:17:04.258343Z",
     "shell.execute_reply": "2022-11-23T11:17:04.257245Z"
    },
    "language": "python",
    "papermill": {
     "duration": 39.675386,
     "end_time": "2022-11-23T11:17:04.261376",
     "exception": false,
     "start_time": "2022-11-23T11:16:24.585990",
     "status": "completed"
    },
    "tags": []
   },
   "outputs": [],
   "source": [
    "X_train,X_test,y_train,y_test= train_test_split(X,y, train_size=0.2)\n",
    "\n",
    "knn=neighbors.KNeighborsClassifier(n_neighbors=25,weights='distance')\n",
    "\n",
    "model=knn.fit(X_train,y_train)\n",
    "\n",
    "predictions=knn.predict(X_test)\n"
   ]
  },
  {
   "cell_type": "code",
   "execution_count": 4,
   "id": "bd83f130",
   "metadata": {
    "azdata_cell_guid": "1e04dd66-5e0a-40d7-b297-62e25cd9f35a",
    "execution": {
     "iopub.execute_input": "2022-11-23T11:17:04.269436Z",
     "iopub.status.busy": "2022-11-23T11:17:04.269000Z",
     "iopub.status.idle": "2022-11-23T11:17:46.598133Z",
     "shell.execute_reply": "2022-11-23T11:17:46.596998Z"
    },
    "language": "python",
    "papermill": {
     "duration": 42.336376,
     "end_time": "2022-11-23T11:17:46.601030",
     "exception": false,
     "start_time": "2022-11-23T11:17:04.264654",
     "status": "completed"
    },
    "tags": []
   },
   "outputs": [],
   "source": [
    "X_train,X_test,y_train,y_test= train_test_split(X,y, train_size=0.2)\n",
    "\n",
    "knn=neighbors.KNeighborsClassifier(n_neighbors=25,weights='distance')\n",
    "\n",
    "model=knn.fit(X_train,y_train)\n",
    "\n",
    "predictions=knn.predict(X_test)\n"
   ]
  },
  {
   "cell_type": "markdown",
   "id": "cf3e9db9",
   "metadata": {
    "papermill": {
     "duration": 0.002572,
     "end_time": "2022-11-23T11:17:46.606724",
     "exception": false,
     "start_time": "2022-11-23T11:17:46.604152",
     "status": "completed"
    },
    "tags": []
   },
   "source": [
    "# Testing and accuracy"
   ]
  },
  {
   "cell_type": "code",
   "execution_count": 5,
   "id": "ac81d46f",
   "metadata": {
    "execution": {
     "iopub.execute_input": "2022-11-23T11:17:46.614015Z",
     "iopub.status.busy": "2022-11-23T11:17:46.613595Z",
     "iopub.status.idle": "2022-11-23T11:18:39.212474Z",
     "shell.execute_reply": "2022-11-23T11:18:39.211225Z"
    },
    "papermill": {
     "duration": 52.608739,
     "end_time": "2022-11-23T11:18:39.218183",
     "exception": false,
     "start_time": "2022-11-23T11:17:46.609444",
     "status": "completed"
    },
    "tags": []
   },
   "outputs": [
    {
     "name": "stdout",
     "output_type": "stream",
     "text": [
      "Accuracy = 0.97069625\n",
      "predicted value: 0.0\n",
      "Actual value: 0.0\n"
     ]
    }
   ],
   "source": [
    "accuracy=metrics.accuracy_score(y_test,predictions)\n",
    "print('Accuracy =',accuracy)\n",
    "\n",
    "a=20\n",
    "\n",
    "print('predicted value:',knn.predict(X)[a])\n",
    "print('Actual value:',y[a])"
   ]
  }
 ],
 "metadata": {
  "kernelspec": {
   "display_name": "Python 3",
   "language": "python",
   "name": "python3"
  },
  "language_info": {
   "codemirror_mode": {
    "name": "ipython",
    "version": 3
   },
   "file_extension": ".py",
   "mimetype": "text/x-python",
   "name": "python",
   "nbconvert_exporter": "python",
   "pygments_lexer": "ipython3",
   "version": "3.7.12"
  },
  "papermill": {
   "default_parameters": {},
   "duration": 148.827964,
   "end_time": "2022-11-23T11:18:40.045590",
   "environment_variables": {},
   "exception": null,
   "input_path": "__notebook__.ipynb",
   "output_path": "__notebook__.ipynb",
   "parameters": {},
   "start_time": "2022-11-23T11:16:11.217626",
   "version": "2.3.4"
  }
 },
 "nbformat": 4,
 "nbformat_minor": 5
}
